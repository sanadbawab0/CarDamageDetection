{
 "cells": [
  {
   "cell_type": "code",
   "execution_count": 1,
   "id": "85c85985",
   "metadata": {},
   "outputs": [],
   "source": [
    "import os \n",
    "import json\n",
    "\n",
    "from keras.preprocessing.image import img_to_array, load_img\n",
    "from keras.utils import get_file\n",
    "from keras.applications.vgg16 import VGG16, preprocess_input\n",
    "from keras.preprocessing import image\n",
    "from keras.models import Model\n",
    "\n",
    "import h5py\n",
    "import numpy as np\n",
    "import pickle as pk"
   ]
  },
  {
   "cell_type": "code",
   "execution_count": 2,
   "id": "bb897563",
   "metadata": {},
   "outputs": [],
   "source": [
    "import warnings\n",
    "warnings.simplefilter(action=\"ignore\", category=FutureWarning)"
   ]
  },
  {
   "cell_type": "code",
   "execution_count": 3,
   "id": "7a679f1b",
   "metadata": {},
   "outputs": [],
   "source": [
    "first_check = VGG16(weights='imagenet')\n",
    "second_check = pk.load(open(\"C:/Users/User/Desktop/Car Damage Detection/cdd/car_damage_check/classifier.pickle\", 'rb'))\n",
    "third_check = pk.load(open(\"C:/Users/User/Desktop/Car Damage Detection/cdd/car_damage_check/FRS/classifier.pickle\", 'rb'))\n",
    "fourth_check = pk.load(open(\"C:/Users/User/Desktop/Car Damage Detection/cdd/car_damage_check/Severity/classifier.pickle\", 'rb'))"
   ]
  },
  {
   "cell_type": "code",
   "execution_count": 4,
   "id": "34018645",
   "metadata": {},
   "outputs": [],
   "source": [
    "with open('cat_counter.pk','rb') as f:\n",
    "    cat_counter = pk.load(f)"
   ]
  },
  {
   "cell_type": "code",
   "execution_count": 5,
   "id": "534194dd",
   "metadata": {},
   "outputs": [
    {
     "data": {
      "text/plain": [
       "Counter({('n04285008', 'sports_car'): 297.92741485964507,\n",
       "         ('n03770679', 'minivan'): 269.8945387789281,\n",
       "         ('n03100240', 'convertible'): 197.22693974507274,\n",
       "         ('n03930630', 'pickup'): 166.5038147289888,\n",
       "         ('n02814533', 'beach_wagon'): 138.54238876028103,\n",
       "         ('n03670208', 'limousine'): 103.08318569662515,\n",
       "         ('n04037443', 'racer'): 101.128612392582,\n",
       "         ('n03594945', 'jeep'): 67.20719529600319,\n",
       "         ('n02974003', 'car_wheel'): 42.48469842632767,\n",
       "         ('n03769881', 'minibus'): 40.416793352225795,\n",
       "         ('n04461696', 'tow_truck'): 40.359245027502766,\n",
       "         ('n03459775', 'grille'): 40.175624556228286,\n",
       "         ('n02930766', 'cab'): 39.998855227429885,\n",
       "         ('n03796401', 'moving_van'): 28.633751844376093,\n",
       "         ('n03977966', 'police_van'): 20.11485464120051,\n",
       "         ('n04065272', 'recreational_vehicle'): 12.45258856046712,\n",
       "         ('n04252225', 'snowplow'): 12.083932857378386,\n",
       "         ('n02701002', 'ambulance'): 9.266461278311908,\n",
       "         ('n04467665', 'trailer_truck'): 6.1015427524689585,\n",
       "         ('n03345487', 'fire_engine'): 4.043484896654263,\n",
       "         ('n03445924', 'golfcart'): 3.7964961882680655,\n",
       "         ('n03417042', 'garbage_truck'): 3.158136300742626,\n",
       "         ('n03791053', 'motor_scooter'): 2.2659351639449596,\n",
       "         ('n03776460', 'mobile_home'): 2.20863903965801,\n",
       "         ('n04517823', 'vacuum'): 2.129098837263882,\n",
       "         ('n03478589', 'half_track'): 1.8457099485676736,\n",
       "         ('n02704792', 'amphibian'): 1.8148221848532557,\n",
       "         ('n03127747', 'crash_helmet'): 1.5616548650432378,\n",
       "         ('n03891332', 'parking_meter'): 1.5132360341958702,\n",
       "         ('n06359193', 'web_site'): 1.4798663631081581,\n",
       "         ('n04252077', 'snowmobile'): 1.338297548238188,\n",
       "         ('n02965783', 'car_mirror'): 1.2753569448832422,\n",
       "         ('n03895866', 'passenger_car'): 1.0557166570797563,\n",
       "         ('n02860847', 'bobsled'): 0.9803281277418137,\n",
       "         ('n03384352', 'forklift'): 0.9630550593137741,\n",
       "         ('n04146614', 'school_bus'): 0.7439606292173266,\n",
       "         ('n03792972', 'mountain_tent'): 0.7182956133037806,\n",
       "         ('n06874185', 'traffic_light'): 0.6859977366402745,\n",
       "         ('n03777568', 'Model_T'): 0.6733314394950867,\n",
       "         ('n03444034', 'go-kart'): 0.6720440937206149,\n",
       "         ('n03599486', 'jinrikisha'): 0.6056613922119141,\n",
       "         ('n03197337', 'digital_watch'): 0.5582298599183559,\n",
       "         ('n03956157', 'planetarium'): 0.5502731204032898,\n",
       "         ('n02992529', 'cellular_telephone'): 0.5204428322613239,\n",
       "         ('n03032252', 'cinema'): 0.5001164972782135,\n",
       "         ('n03649909', 'lawn_mower'): 0.49676666036248207,\n",
       "         ('n03908714', 'pencil_sharpener'): 0.47376561909914017,\n",
       "         ('n03743016', 'megalith'): 0.45980197191238403,\n",
       "         ('n02776631', 'bakery'): 0.4213024787604809,\n",
       "         ('n03837869', 'obelisk'): 0.3931276500225067,\n",
       "         ('n02859443', 'boathouse'): 0.37839479744434357,\n",
       "         ('n04004767', 'printer'): 0.3316329959779978,\n",
       "         ('n04487081', 'trolleybus'): 0.3228817842900753,\n",
       "         ('n06794110', 'street_sign'): 0.310713566839695,\n",
       "         ('n02917067', 'bullet_train'): 0.29010896012187004,\n",
       "         ('n04311004', 'steel_arch_bridge'): 0.26359153911471367,\n",
       "         ('n04435653', 'tile_roof'): 0.26026234962046146,\n",
       "         ('n02979186', 'cassette_player'): 0.24774277955293655,\n",
       "         ('n04120489', 'running_shoe'): 0.2358754761517048,\n",
       "         ('n09428293', 'seashore'): 0.23480558395385742,\n",
       "         ('n04404412', 'television'): 0.23437055945396423,\n",
       "         ('n03666591', 'lighter'): 0.23187623918056488,\n",
       "         ('n04069434', 'reflex_camera'): 0.19947487115859985,\n",
       "         ('n04613696', 'yurt'): 0.1910500917583704,\n",
       "         ('n02894605', 'breakwater'): 0.18568817153573036,\n",
       "         ('n03344393', 'fireboat'): 0.18568364530801773,\n",
       "         ('n02769748', 'backpack'): 0.18520861864089966,\n",
       "         ('n03933933', 'pier'): 0.18394003063440323,\n",
       "         ('n03028079', 'church'): 0.181002676486969,\n",
       "         ('n04366367', 'suspension_bridge'): 0.17888255417346954,\n",
       "         ('n04442312', 'toaster'): 0.16697615385055542,\n",
       "         ('n09399592', 'promontory'): 0.16641293466091156,\n",
       "         ('n04465501', 'tractor'): 0.16352683868717577,\n",
       "         ('n03794056', 'mousetrap'): 0.1617206186056137,\n",
       "         ('n03425413', 'gas_pump'): 0.1579405628144741,\n",
       "         ('n02747177', 'ashcan'): 0.1577968280762434,\n",
       "         ('n03000684', 'chain_saw'): 0.15496021136641502,\n",
       "         ('n04273569', 'speedboat'): 0.1547309271991253,\n",
       "         ('n04542943', 'waffle_iron'): 0.14923789538443089,\n",
       "         ('n10148035', 'groom'): 0.14573363959789276,\n",
       "         ('n04552348', 'warplane'): 0.13841617479920387,\n",
       "         ('n03976467', 'Polaroid_camera'): 0.13050918653607368,\n",
       "         ('n04372370', 'switch'): 0.1279330998659134,\n",
       "         ('n04041544', 'radio'): 0.12712258845567703,\n",
       "         ('n02793495', 'barn'): 0.11922189593315125,\n",
       "         ('n03457902', 'greenhouse'): 0.11518249660730362,\n",
       "         ('n04009552', 'projector'): 0.09894836321473122,\n",
       "         ('n03785016', 'moped'): 0.09616350755095482,\n",
       "         ('n04392985', 'tape_player'): 0.09484202414751053,\n",
       "         ('n03538406', 'horse_cart'): 0.09155569225549698,\n",
       "         ('n03160309', 'dam'): 0.08746965229511261,\n",
       "         ('n03958227', 'plastic_bag'): 0.08678530156612396,\n",
       "         ('n04326547', 'stone_wall'): 0.08314190804958344,\n",
       "         ('n04335435', 'streetcar'): 0.08037189394235611,\n",
       "         ('n03781244', 'monastery'): 0.07743261754512787,\n",
       "         ('n04204347', 'shopping_cart'): 0.06952463835477829,\n",
       "         ('n02692877', 'airship'): 0.06915002316236496,\n",
       "         ('n07802026', 'hay'): 0.0662945955991745,\n",
       "         ('n03782006', 'monitor'): 0.06504759937524796,\n",
       "         ('n03877845', 'palace'): 0.06372018158435822,\n",
       "         ('n04485082', 'tripod'): 0.06278745085000992,\n",
       "         ('n04409515', 'tennis_ball'): 0.058915331959724426,\n",
       "         ('n03126707', 'crane'): 0.057375140488147736,\n",
       "         ('n03220513', 'dome'): 0.056455109268426895,\n",
       "         ('n02981792', 'catamaran'): 0.05445775017142296,\n",
       "         ('n04483307', 'trimaran'): 0.05307578295469284,\n",
       "         ('n04579432', 'whistle'): 0.05272229388356209,\n",
       "         ('n04265275', 'space_heater'): 0.052545128390192986,\n",
       "         ('n03874293', 'paddlewheel'): 0.05238019675016403,\n",
       "         ('n03976657', 'pole'): 0.05096965283155441,\n",
       "         ('n03902125', 'pay-phone'): 0.05044462904334068,\n",
       "         ('n03584829', 'iron'): 0.05037033557891846,\n",
       "         ('n03706229', 'magnetic_compass'): 0.04688161611557007,\n",
       "         ('n02437312', 'Arabian_camel'): 0.046790432184934616,\n",
       "         ('n03388043', 'fountain'): 0.04619219899177551,\n",
       "         ('n03496892', 'harvester'): 0.04495475813746452,\n",
       "         ('n03788195', 'mosque'): 0.04302540421485901,\n",
       "         ('n04509417', 'unicycle'): 0.04258992522954941,\n",
       "         ('n04443257', 'tobacco_shop'): 0.04154214262962341,\n",
       "         ('n03924679', 'photocopier'): 0.04016796872019768,\n",
       "         ('n09246464', 'cliff'): 0.038695935159921646,\n",
       "         ('n03710193', 'mailbox'): 0.037973858416080475,\n",
       "         ('n04019541', 'puck'): 0.03796586021780968,\n",
       "         ('n03983396', 'pop_bottle'): 0.03677937015891075,\n",
       "         ('n04532670', 'viaduct'): 0.036254920065402985,\n",
       "         ('n09421951', 'sandbar'): 0.03606393560767174,\n",
       "         ('n02910353', 'buckle'): 0.03586164489388466,\n",
       "         ('n04479046', 'trench_coat'): 0.03425217792391777,\n",
       "         ('n02086079', 'Pekinese'): 0.03395409137010574,\n",
       "         ('n03355925', 'flagpole'): 0.03341841325163841,\n",
       "         ('n01665541', 'leatherback_turtle'): 0.03296317905187607,\n",
       "         ('n03967562', 'plow'): 0.03236071069977697,\n",
       "         ('n04562935', 'water_tower'): 0.03199424594640732,\n",
       "         ('n03763968', 'military_uniform'): 0.029519748874008656,\n",
       "         ('n09193705', 'alp'): 0.02703389897942543,\n",
       "         ('n04074963', 'remote_control'): 0.026327433064579964,\n",
       "         ('n04228054', 'ski'): 0.023427413776516914,\n",
       "         ('n03709823', 'mailbag'): 0.022257639095187187,\n",
       "         ('n03617480', 'kimono'): 0.012776980176568031,\n",
       "         ('n02841315', 'binoculars'): 0.010336085222661495,\n",
       "         ('n04310018', 'steam_locomotive'): 0.010009536519646645,\n",
       "         ('n04336792', 'stretcher'): 0.006812496576458216,\n",
       "         ('n02951358', 'canoe'): 0.006629324518144131,\n",
       "         ('n04560804', 'water_jug'): 0.0053508589044213295,\n",
       "         ('n04208210', 'shovel'): 0.00415462302044034})"
      ]
     },
     "execution_count": 5,
     "metadata": {},
     "output_type": "execute_result"
    }
   ],
   "source": [
    "cat_counter"
   ]
  },
  {
   "cell_type": "code",
   "execution_count": 6,
   "id": "5c3aa871",
   "metadata": {},
   "outputs": [],
   "source": [
    "cat_list = [k for k, v in cat_counter.most_common()[:27]]"
   ]
  },
  {
   "cell_type": "code",
   "execution_count": 7,
   "id": "40770c4d",
   "metadata": {},
   "outputs": [
    {
     "data": {
      "text/plain": [
       "[('n04285008', 'sports_car'),\n",
       " ('n03770679', 'minivan'),\n",
       " ('n03100240', 'convertible'),\n",
       " ('n03930630', 'pickup'),\n",
       " ('n02814533', 'beach_wagon'),\n",
       " ('n03670208', 'limousine'),\n",
       " ('n04037443', 'racer'),\n",
       " ('n03594945', 'jeep'),\n",
       " ('n02974003', 'car_wheel'),\n",
       " ('n03769881', 'minibus'),\n",
       " ('n04461696', 'tow_truck'),\n",
       " ('n03459775', 'grille'),\n",
       " ('n02930766', 'cab'),\n",
       " ('n03796401', 'moving_van'),\n",
       " ('n03977966', 'police_van'),\n",
       " ('n04065272', 'recreational_vehicle'),\n",
       " ('n04252225', 'snowplow'),\n",
       " ('n02701002', 'ambulance'),\n",
       " ('n04467665', 'trailer_truck'),\n",
       " ('n03345487', 'fire_engine'),\n",
       " ('n03445924', 'golfcart'),\n",
       " ('n03417042', 'garbage_truck'),\n",
       " ('n03791053', 'motor_scooter'),\n",
       " ('n03776460', 'mobile_home'),\n",
       " ('n04517823', 'vacuum'),\n",
       " ('n03478589', 'half_track'),\n",
       " ('n02704792', 'amphibian')]"
      ]
     },
     "execution_count": 7,
     "metadata": {},
     "output_type": "execute_result"
    }
   ],
   "source": [
    "cat_list"
   ]
  },
  {
   "cell_type": "markdown",
   "id": "cfbeacad",
   "metadata": {},
   "source": [
    "# First Check - Car or Not"
   ]
  },
  {
   "cell_type": "code",
   "execution_count": 8,
   "id": "1d3ab616",
   "metadata": {},
   "outputs": [],
   "source": [
    "CLASS_INDEX = None"
   ]
  },
  {
   "cell_type": "code",
   "execution_count": 9,
   "id": "f2a3f936",
   "metadata": {},
   "outputs": [],
   "source": [
    "CLASS_INDEX_PATH = r\"C:\\Users\\User\\Desktop\\Car Damage Detection\\imagenet_class_index.json\""
   ]
  },
  {
   "cell_type": "code",
   "execution_count": 10,
   "id": "3752944f",
   "metadata": {},
   "outputs": [],
   "source": [
    "def get_predictions(preds,top=5):\n",
    "    global CLASS_INDEX\n",
    "    \n",
    "    CLASS_INDEX = json.load(open(CLASS_INDEX_PATH))\n",
    "    \n",
    "    results = []\n",
    "    for pred in preds:\n",
    "        top_indices = pred.argsort()[-top:][::-1]\n",
    "        result = [tuple(CLASS_INDEX[str(i)]) + (pred[i],) for i in top_indices]\n",
    "        result.sort(key=lambda x: x[2], reverse=True)\n",
    "        results.append(result)\n",
    "    return results"
   ]
  },
  {
   "cell_type": "code",
   "execution_count": 16,
   "id": "60e2b470",
   "metadata": {},
   "outputs": [],
   "source": [
    "def prepare_img_224(img_path):\n",
    "    img = load_img(img_path, target_size=(224,224))\n",
    "    x = img_to_array(img)\n",
    "    x = np.expand_dims(x, axis=0)\n",
    "    x = preprocess_input(x)\n",
    "    return x"
   ]
  },
  {
   "cell_type": "code",
   "execution_count": 17,
   "id": "bb779174",
   "metadata": {},
   "outputs": [],
   "source": [
    "def car_categories_check(img_224, model):\n",
    "    print(\"Checking if a Car..\")\n",
    "    out = model.predict(img_224)\n",
    "    top = get_predictions(out, top=5)\n",
    "    \n",
    "    for j in top[0]:\n",
    "        if j[0:2] in cat_list:\n",
    "            print(\"Car Check Passed !\\n\")\n",
    "            return True\n",
    "    return False"
   ]
  },
  {
   "cell_type": "markdown",
   "id": "f4dbd17d",
   "metadata": {},
   "source": [
    "# Second Check - Damage or Not"
   ]
  },
  {
   "cell_type": "code",
   "execution_count": 12,
   "id": "463f6826",
   "metadata": {},
   "outputs": [],
   "source": [
    "def car_damage_check(classifier):\n",
    "    print(\"Checking if there is a damage...\")\n",
    "    base_model = first_check\n",
    "    train_labels = ['Damaged', 'Not Damaged']\n",
    "    \n",
    "    model = Model(inputs=base_model.input, outputs=base_model.get_layer('fc1').output)\n",
    "    image_size = (224, 224)\n",
    "    \n",
    "    img = image.load_img(img_path, target_size=image_size)\n",
    "    x = image.img_to_array(img)\n",
    "    x = np.expand_dims(x, axis=0)\n",
    "    x = preprocess_input(x)\n",
    "    feature = model.predict(x)\n",
    "    flat = feature.flatten()\n",
    "    flat = np.expand_dims(flat, axis=0)\n",
    "    preds = classifier.predict(flat)\n",
    "    predictions = train_labels[preds[0]]\n",
    "    \n",
    "    if train_labels[preds[0]] == 'Damaged':\n",
    "        print(\"completed - proceeding to location and severity determination\\n\")\n",
    "        return True\n",
    "    return False"
   ]
  },
  {
   "cell_type": "markdown",
   "id": "8ba8f98a",
   "metadata": {},
   "source": [
    "# Third Check - Location Assesment"
   ]
  },
  {
   "cell_type": "code",
   "execution_count": 14,
   "id": "5d474352",
   "metadata": {},
   "outputs": [],
   "source": [
    "def location_assesment(classifier):\n",
    "    print(\"Validating the damage area - Front, Rear or Side\")\n",
    "    base_model = first_check\n",
    "    train_labels = ['Front Damage', 'Rear Damage', 'Side Damage']\n",
    "    \n",
    "    model = Model(inputs=base_model.input, outputs=base_model.get_layer('fc1').output)\n",
    "    image_size = (224, 224)\n",
    "\n",
    "    img = image.load_img(img_path, target_size=image_size)\n",
    "    x = image.img_to_array(img)\n",
    "    x = np.expand_dims(x, axis=0)\n",
    "    x = preprocess_input(x)\n",
    "    feature = model.predict(x)\n",
    "    flat = feature.flatten()\n",
    "    flat = np.expand_dims(flat, axis=0)\n",
    "    preds = classifier.predict(flat)\n",
    "    predictions = train_labels[preds[0]]\n",
    "    \n",
    "    print(\"Your car is damaged at - \" + train_labels[preds[0]])\n",
    "    print(\"Location assesment complete\")\n",
    "    print('\\n')"
   ]
  },
  {
   "cell_type": "markdown",
   "id": "7b87863a",
   "metadata": {},
   "source": [
    "# Fourth Check - Severity Assesment"
   ]
  },
  {
   "cell_type": "code",
   "execution_count": 44,
   "id": "8d2a318b",
   "metadata": {},
   "outputs": [],
   "source": [
    "def severity_assesment(classifier):\n",
    "    print(\"Validating the Severity...\")\n",
    "    base_model = first_check\n",
    "    train_labels = ['Minor Damage', 'Moderate Damage', 'Severe Damage']\n",
    "    \n",
    "    model = Model(inputs=base_model.input, outputs=base_model.get_layer('fc1').output)\n",
    "    image_size = (224, 224)\n",
    "\n",
    "    img = image.load_img(img_path, target_size=image_size)\n",
    "    x = image.img_to_array(img)\n",
    "    x = np.expand_dims(x, axis=0)\n",
    "    x = preprocess_input(x)\n",
    "    feature = model.predict(x)\n",
    "    flat = feature.flatten()\n",
    "    flat = np.expand_dims(flat, axis=0)\n",
    "    preds = classifier.predict(flat)\n",
    "    predictions = train_labels[preds[0]]\n",
    "    print(\"Your Car impact is - \" + train_labels[preds[0]])\n",
    "    print(\"Severity assesment complete\")\n",
    "    print('\\n')"
   ]
  },
  {
   "cell_type": "markdown",
   "id": "4bd7659f",
   "metadata": {},
   "source": [
    "# Engine"
   ]
  },
  {
   "cell_type": "code",
   "execution_count": 45,
   "id": "268c1859",
   "metadata": {},
   "outputs": [],
   "source": [
    "def engine(img):\n",
    "    while True:\n",
    "        try:\n",
    "            img_224 = prepare_img_224(img)\n",
    "            g1 = car_categories_check(img_224, first_check)\n",
    "            \n",
    "            if g1 is False:\n",
    "                print(\"Are you sure this is a picture of your car? Please submit another picture of the damage.\")\n",
    "                print(\"Hint: Try zooming in/out, using a different angle or different lighting.\")\n",
    "                break\n",
    "                \n",
    "            g2 = car_damage_check(second_check)\n",
    "                \n",
    "            if g2 is False:\n",
    "                print(\"Are you sure that your car is damaged? Please Submit another picture of dammage\")\n",
    "                print(\"Hint: Try zooming in/out, using a different angle or different lighting.\")\n",
    "                break\n",
    "            \n",
    "            x = location_assesment(third_check)\n",
    "            y = severity_assesment(fourth_check)\n",
    "            break\n",
    "            \n",
    "        except:\n",
    "            print(\"Image not accessabile. PLease try again.\")\n",
    "            break"
   ]
  },
  {
   "cell_type": "code",
   "execution_count": 46,
   "id": "7018f5c7",
   "metadata": {},
   "outputs": [],
   "source": [
    "img_path = 'image3.jpg'"
   ]
  },
  {
   "cell_type": "code",
   "execution_count": 47,
   "id": "b7c553e1",
   "metadata": {},
   "outputs": [
    {
     "name": "stdout",
     "output_type": "stream",
     "text": [
      "Checking if a Car..\n",
      "1/1 [==============================] - 0s 125ms/step\n",
      "Car Check Passed !\n",
      "\n",
      "Checking if there is a damage...\n",
      "1/1 [==============================] - 0s 228ms/step\n",
      "completed - proceeding to location and severity determination\n",
      "\n",
      "Validating the damage area - Front, Rear or Side\n",
      "1/1 [==============================] - 0s 229ms/step\n",
      "Your car is damaged at - Rear Damage\n",
      "Location assesment complete\n",
      "\n",
      "\n",
      "Validating the Severity...\n",
      "1/1 [==============================] - 0s 231ms/step\n",
      "Your Car impact is - Moderate Damage\n",
      "Severity assesment complete\n",
      "\n",
      "\n"
     ]
    }
   ],
   "source": [
    "engine(img_path)"
   ]
  }
 ],
 "metadata": {
  "kernelspec": {
   "display_name": "Python 3 (ipykernel)",
   "language": "python",
   "name": "python3"
  },
  "language_info": {
   "codemirror_mode": {
    "name": "ipython",
    "version": 3
   },
   "file_extension": ".py",
   "mimetype": "text/x-python",
   "name": "python",
   "nbconvert_exporter": "python",
   "pygments_lexer": "ipython3",
   "version": "3.11.5"
  }
 },
 "nbformat": 4,
 "nbformat_minor": 5
}
