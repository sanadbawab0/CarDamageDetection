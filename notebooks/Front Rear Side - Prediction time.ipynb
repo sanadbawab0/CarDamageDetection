{
 "cells": [
  {
   "cell_type": "code",
   "execution_count": 1,
   "id": "b55e0ff3",
   "metadata": {},
   "outputs": [],
   "source": [
    "from keras.applications.vgg16 import VGG16, preprocess_input\n",
    "from keras.preprocessing import image\n",
    "from keras.models import Model\n",
    "from keras.layers import Input\n",
    "\n",
    "from sklearn.linear_model import LogisticRegression\n",
    "import numpy as np\n",
    "import os\n",
    "import json\n",
    "import pickle"
   ]
  },
  {
   "cell_type": "code",
   "execution_count": 2,
   "id": "2e12ce31",
   "metadata": {},
   "outputs": [],
   "source": [
    "config={\n",
    "  \"model\"           : \"vgg16\",\n",
    "  \"weights\"         : \"imagenet\",\n",
    "\n",
    "  \"classifier_path\" : \"C:/Users/User/Desktop/Car Damage Detection/cdd/car_damage_check/classifier.pickle\",\n",
    "}"
   ]
  },
  {
   "cell_type": "code",
   "execution_count": 3,
   "id": "f21299cd",
   "metadata": {},
   "outputs": [
    {
     "name": "stdout",
     "output_type": "stream",
     "text": [
      "[INFO] loading the classifier...\n"
     ]
    }
   ],
   "source": [
    "print(\"[INFO] loading the classifier...\")\n",
    "classifier = pickle.load(open(config[\"classifier_path\"],'rb'))\n",
    "if config['model'] == \"vgg16\":\n",
    "    base_model = VGG16(weights=config['weights'])\n",
    "    model = Model(inputs=base_model.input, outputs=base_model.get_layer('fc1').output)\n",
    "    image_size = (224, 224)\n",
    "else:\n",
    "    base_model = None"
   ]
  },
  {
   "cell_type": "code",
   "execution_count": 8,
   "id": "ca88ecf7",
   "metadata": {},
   "outputs": [
    {
     "name": "stdout",
     "output_type": "stream",
     "text": [
      "1/1 [==============================] - 0s 157ms/step\n"
     ]
    }
   ],
   "source": [
    "img = image.load_img('image3.jpg', target_size=image_size)\n",
    "x = image.img_to_array(img)\n",
    "x = np.expand_dims(x, axis=0)\n",
    "x = preprocess_input(x)\n",
    "feature = model.predict(x)\n",
    "flat = feature.flatten()\n",
    "flat = np.expand_dims(flat, axis=0)\n",
    "preds = classifier.predict(flat)"
   ]
  },
  {
   "cell_type": "code",
   "execution_count": 9,
   "id": "0b585c36",
   "metadata": {},
   "outputs": [
    {
     "data": {
      "text/plain": [
       "array([1], dtype=int64)"
      ]
     },
     "execution_count": 9,
     "metadata": {},
     "output_type": "execute_result"
    }
   ],
   "source": [
    "preds"
   ]
  },
  {
   "cell_type": "code",
   "execution_count": 10,
   "id": "554d8201",
   "metadata": {},
   "outputs": [],
   "source": [
    "label_check1 = ['Front Damage', 'Rear Damage', 'Side Damage']"
   ]
  },
  {
   "cell_type": "code",
   "execution_count": 11,
   "id": "92029d76",
   "metadata": {},
   "outputs": [
    {
     "data": {
      "text/plain": [
       "'Rear Damage'"
      ]
     },
     "execution_count": 11,
     "metadata": {},
     "output_type": "execute_result"
    }
   ],
   "source": [
    "label_check1[preds[0]]"
   ]
  }
 ],
 "metadata": {
  "kernelspec": {
   "display_name": "Python 3 (ipykernel)",
   "language": "python",
   "name": "python3"
  },
  "language_info": {
   "codemirror_mode": {
    "name": "ipython",
    "version": 3
   },
   "file_extension": ".py",
   "mimetype": "text/x-python",
   "name": "python",
   "nbconvert_exporter": "python",
   "pygments_lexer": "ipython3",
   "version": "3.11.5"
  }
 },
 "nbformat": 4,
 "nbformat_minor": 5
}
